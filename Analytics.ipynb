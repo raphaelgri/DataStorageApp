{
 "cells": [
  {
   "cell_type": "code",
   "execution_count": 1,
   "id": "198a053b",
   "metadata": {},
   "outputs": [
    {
     "name": "stderr",
     "output_type": "stream",
     "text": [
      "C:\\Users\\Raphael\\AppData\\Local\\Programs\\Python\\Python310\\lib\\site-packages\\numpy\\_distributor_init.py:30: UserWarning: loaded more than 1 DLL from .libs:\n",
      "C:\\Users\\Raphael\\AppData\\Local\\Programs\\Python\\Python310\\lib\\site-packages\\numpy\\.libs\\libopenblas.EL2C6PLE4ZYW3ECEVIV3OXXGRN2NRFM2.gfortran-win_amd64.dll\n",
      "C:\\Users\\Raphael\\AppData\\Local\\Programs\\Python\\Python310\\lib\\site-packages\\numpy\\.libs\\libopenblas64__v0.3.21-gcc_10_3_0.dll\n",
      "  warnings.warn(\"loaded more than 1 DLL from .libs:\"\n"
     ]
    }
   ],
   "source": [
    "#import sqlalchemy\n",
    "import sqlalchemy as sqa\n",
    "from sqlalchemy.orm import declarative_base\n",
    "from sqlalchemy import func\n",
    "from sqlalchemy import ForeignKey\n",
    "from sqlalchemy.orm import relationship\n",
    "from sqlalchemy import case\n",
    "from sqlalchemy import desc\n",
    "\n",
    "import timeit #for timing\n",
    "import matplotlib.pyplot as plt\n",
    "import numpy as np\n",
    "\n",
    "from sqlalchemy.orm import sessionmaker"
   ]
  },
  {
   "cell_type": "code",
   "execution_count": 2,
   "id": "1486fc17",
   "metadata": {},
   "outputs": [],
   "source": [
    "#creates engine to the database file\n",
    "engine = sqa.create_engine(\"sqlite:///Data/movie.db\")"
   ]
  },
  {
   "cell_type": "code",
   "execution_count": 3,
   "id": "21e14274",
   "metadata": {},
   "outputs": [],
   "source": [
    "#creates declarative base\n",
    "Base = declarative_base()"
   ]
  },
  {
   "cell_type": "code",
   "execution_count": 4,
   "id": "6babc182",
   "metadata": {},
   "outputs": [],
   "source": [
    "#creates class for communicating with the movie table\n",
    "class Movies(Base):\n",
    "    __tablename__ = 'movies'\n",
    "    \n",
    "    id_movie = sqa.Column(sqa.Integer, primary_key=True)\n",
    "    title_movie = sqa.Column(sqa.String)\n",
    "    year_movie = sqa.Column(sqa.Integer)\n",
    "    \n",
    "    def __repr__(self):\n",
    "        return \"<Movie(id_movie='%i',title_movie='%s')>\" % (self.id_movie, self.title_movie)\n",
    "\n",
    "#creates class for communicating with the movie table\n",
    "class Ratings(Base):\n",
    "    __tablename__ = 'ratings'\n",
    "    \n",
    "    id_rating = sqa.Column(sqa.Integer, primary_key=True)\n",
    "    id_movie = sqa.Column(sqa.Integer)\n",
    "    id_user = sqa.Column(sqa.Integer)\n",
    "    value_rating = sqa.Column(sqa.Float)\n",
    "    timestamp_rating = sqa.Column(sqa.String)\n",
    "\n",
    "    \n",
    "    def __repr__(self):\n",
    "        return \"<Rating(id_rating='%i',id_movie='%i',id_user='%i',value_rating='%i',timestamp_rating='%s')>\" % (self.id_rating,self.id_movie,self.id_user,self.value_rating, self.timestamp_rating)\n",
    "\n",
    "#creates class for communicating with the movie table\n",
    "class GenreList(Base):\n",
    "    __tablename__ = 'genre_list'\n",
    "    \n",
    "    id_genre_item = sqa.Column(sqa.Integer, primary_key=True)\n",
    "    id_movie = sqa.Column(sqa.Integer)\n",
    "    name_genre = sqa.Column(sqa.String)\n",
    "    \n",
    "    \n",
    "    def __repr__(self):\n",
    "        return \"<GenreList(id_genre_item='%i',id_movie='%i',name_genre='%s')>\" % (self.id_genre_item,self.id_movie,self.id_user,self.name_genre)\n",
    "\n",
    "    \n",
    "#creates class temporary reference of average rating\n",
    "class ReferenceRatings(Base):\n",
    "    __tablename__ = 'reference_ratings'\n",
    "    \n",
    "    id_reference = sqa.Column(sqa.Integer, primary_key=True)\n",
    "    average_rating = sqa.Column(sqa.Float)\n",
    "    timestamp_update = sqa.Column(sqa.String)\n",
    "    onestar_rating = sqa.Column(sqa.Integer)\n",
    "    twostar_rating = sqa.Column(sqa.Integer)\n",
    "    threestar_rating = sqa.Column(sqa.Integer)\n",
    "    fourstar_rating = sqa.Column(sqa.Integer)\n",
    "    fivestar_rating = sqa.Column(sqa.Integer)\n",
    "    count_rating = sqa.Column(sqa.Integer)\n",
    "    \n",
    "\n",
    "    \n",
    "    def __repr__(self):\n",
    "        return \"<Rating(id_movie='%i',average_rating='%i',timestamp_update='%s')>\" % (self.id_reference,self.average_rating, self.timestamp_update)\n",
    "\n",
    "class intersec_movies(Base):\n",
    "    __tablename__ = 'intersec_movies'\n",
    "    \n",
    "    id_intersec = sqa.Column(sqa.Integer, primary_key=True, index=True)\n",
    "    id_movieA = sqa.Column(sqa.Integer)\n",
    "    id_movieB = sqa.Column(sqa.Integer)\n",
    "    count_value = sqa.Column(sqa.Integer)\n",
    "    \n",
    "    def __repr__(self):\n",
    "        return \"<intersec_movies(id_moviAe='%i',id_moviAe='%i',count='%i')>\" % (self.id_movieA,self.id_movieB, self.count_value)\n",
    "\n",
    "class intersec_users(Base):\n",
    "    __tablename__ = 'intersec_users'\n",
    "    \n",
    "    id_intersec_user = sqa.Column(sqa.Integer, primary_key=True, index=True)\n",
    "    id_userA = sqa.Column(sqa.Integer)\n",
    "    id_userB = sqa.Column(sqa.Integer)\n",
    "    similarity_user = sqa.Column(sqa.Integer)\n",
    "    \n",
    "    def __repr__(self):\n",
    "        return \"<intersec_users(id_intersec_user='%i',id_userA='%i',id_userB='%i', count='%i')>\" % (self.id_intersec_user,self.id_userA,self.id_userB, self.similarity_user)\n",
    "\n",
    "class intersec_movies_2(Base):\n",
    "    __tablename__ = 'intersec_movies_2'\n",
    "    \n",
    "    id_intersec_movie = sqa.Column(sqa.Integer, primary_key=True, index=True)\n",
    "    id_movieA = sqa.Column(sqa.Integer, index=True)\n",
    "    id_movieB = sqa.Column(sqa.Integer, index=True)\n",
    "    similarity_movie = sqa.Column(sqa.Float)\n",
    "    \n",
    "    def __repr__(self):\n",
    "        return \"<intersec_movies(id_intersec_movie='%i',id_movieA='%i',id_movieB='%i', similarity='%i')>\" % (self.id_intersec_movie,self.id_movieA,self.id_movieB, self.similarity_movie)\n",
    "\n",
    "    \n",
    "#relationships\n",
    "\n",
    "#Ratings.movie = relationship(\"Movies\", back_populates=\"ratings\")\n",
    "#Movies.ratings = relationship(\"Ratings\", order_by=Ratings.id_rating, back_populates=\"movie\")"
   ]
  },
  {
   "cell_type": "code",
   "execution_count": 5,
   "id": "8ba791b0",
   "metadata": {},
   "outputs": [],
   "source": [
    "#connects to the database\n",
    "Session = sessionmaker(bind=engine)\n",
    "session = Session()"
   ]
  },
  {
   "cell_type": "code",
   "execution_count": 6,
   "id": "6b8bbda7",
   "metadata": {},
   "outputs": [],
   "source": [
    "# First networkx library is imported \n",
    "# along with matplotlib\n",
    "import networkx as nx\n",
    "import matplotlib.pyplot as plt\n",
    "   \n",
    "# Defining a Class\n",
    "class GraphVisualization:\n",
    "   \n",
    "    def __init__(self):\n",
    "          \n",
    "        # visual is a list which stores all \n",
    "        # the set of edges that constitutes a\n",
    "        # graph\n",
    "        self.visual = []\n",
    "          \n",
    "    # addEdge function inputs the vertices of an\n",
    "    # edge and appends it to the visual list\n",
    "    def addEdge(self, a, b):\n",
    "        temp = [a, b]\n",
    "        self.visual.append(temp)\n",
    "          \n",
    "    # In visualize function G is an object of\n",
    "    # class Graph given by networkx G.add_edges_from(visual)\n",
    "    # creates a graph with a given list\n",
    "    # nx.draw_networkx(G) - plots the graph\n",
    "    # plt.show() - displays the graph\n",
    "    def visualize(self):\n",
    "        G = nx.Graph()\n",
    "        G.add_edges_from(self.visual)\n",
    "        nx.draw_networkx(G)\n",
    "        plt.show()\n"
   ]
  },
  {
   "cell_type": "code",
   "execution_count": 56,
   "id": "f5e57472",
   "metadata": {},
   "outputs": [],
   "source": [
    "G = nx.Graph()\n",
    "edges = []\n",
    "nodes = []\n",
    "\n",
    "query = session.query(intersec_movies_2.id_movieA, intersec_movies_2.id_movieB, intersec_movies_2.similarity_movie).filter(intersec_movies_2.similarity_movie >= 0.25)\n",
    "for q in query:\n",
    "    edges.append([q[0], q[1], dict(weight=q[2])])\n",
    "    \n",
    "query = session.query(ReferenceRatings.id_reference, ReferenceRatings.count_rating, Movies.title_movie, GenreList.name_genre).filter(ReferenceRatings.count_rating > 100, Movies.id_movie==ReferenceRatings.id_reference, Movies.id_movie == GenreList.id_movie)\n",
    "for q in query:\n",
    "    nodes.append((q[0], dict(size=q[1], label=q[2], genre=q[3])))"
   ]
  },
  {
   "cell_type": "code",
   "execution_count": 57,
   "id": "a932a69f",
   "metadata": {
    "scrolled": true
   },
   "outputs": [
    {
     "name": "stdout",
     "output_type": "stream",
     "text": [
      "Help on method add_nodes_from in module networkx.classes.graph:\n",
      "\n",
      "add_nodes_from(nodes_for_adding, **attr) method of networkx.classes.graph.Graph instance\n",
      "    Add multiple nodes.\n",
      "    \n",
      "    Parameters\n",
      "    ----------\n",
      "    nodes_for_adding : iterable container\n",
      "        A container of nodes (list, dict, set, etc.).\n",
      "        OR\n",
      "        A container of (node, attribute dict) tuples.\n",
      "        Node attributes are updated using the attribute dict.\n",
      "    attr : keyword arguments, optional (default= no attributes)\n",
      "        Update attributes for all nodes in nodes.\n",
      "        Node attributes specified in nodes as a tuple take\n",
      "        precedence over attributes specified via keyword arguments.\n",
      "    \n",
      "    See Also\n",
      "    --------\n",
      "    add_node\n",
      "    \n",
      "    Examples\n",
      "    --------\n",
      "    >>> G = nx.Graph()  # or DiGraph, MultiGraph, MultiDiGraph, etc\n",
      "    >>> G.add_nodes_from(\"Hello\")\n",
      "    >>> K3 = nx.Graph([(0, 1), (1, 2), (2, 0)])\n",
      "    >>> G.add_nodes_from(K3)\n",
      "    >>> sorted(G.nodes(), key=str)\n",
      "    [0, 1, 2, 'H', 'e', 'l', 'o']\n",
      "    \n",
      "    Use keywords to update specific node attributes for every node.\n",
      "    \n",
      "    >>> G.add_nodes_from([1, 2], size=10)\n",
      "    >>> G.add_nodes_from([3, 4], weight=0.4)\n",
      "    \n",
      "    Use (node, attrdict) tuples to update attributes for specific nodes.\n",
      "    \n",
      "    >>> G.add_nodes_from([(1, dict(size=11)), (2, {\"color\": \"blue\"})])\n",
      "    >>> G.nodes[1][\"size\"]\n",
      "    11\n",
      "    >>> H = nx.Graph()\n",
      "    >>> H.add_nodes_from(G.nodes(data=True))\n",
      "    >>> H.nodes[1][\"size\"]\n",
      "    11\n",
      "\n"
     ]
    }
   ],
   "source": [
    "help(G.add_nodes_from)"
   ]
  },
  {
   "cell_type": "code",
   "execution_count": 58,
   "id": "3ed284b0",
   "metadata": {},
   "outputs": [],
   "source": [
    "G.add_nodes_from(nodes)\n",
    "G.add_edges_from(edges)"
   ]
  },
  {
   "cell_type": "code",
   "execution_count": 59,
   "id": "a544474f",
   "metadata": {},
   "outputs": [],
   "source": [
    "nx.write_gexf(G,'moviesBIG.gexf')"
   ]
  },
  {
   "cell_type": "code",
   "execution_count": 33,
   "id": "7d0cfd14",
   "metadata": {},
   "outputs": [
    {
     "data": {
      "image/png": "[encoded data removed]",
      "text/plain": [
       "<Figure size 432x288 with 1 Axes>"
      ]
     },
     "metadata": {},
     "output_type": "display_data"
    }
   ],
   "source": [
    "G.visualize()a"
   ]
  }
 ],
 "metadata": {
  "kernelspec": {
   "display_name": "Python 3 (ipykernel)",
   "language": "python",
   "name": "python3"
  },
  "language_info": {
   "codemirror_mode": {
    "name": "ipython",
    "version": 3
   },
   "file_extension": ".py",
   "mimetype": "text/x-python",
   "name": "python",
   "nbconvert_exporter": "python",
   "pygments_lexer": "ipython3",
   "version": "3.10.4"
  }
 },
 "nbformat": 4,
 "nbformat_minor": 5
}
