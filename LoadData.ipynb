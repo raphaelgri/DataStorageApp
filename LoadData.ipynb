{
 "cells": [
  {
   "cell_type": "markdown",
   "id": "f973ed80",
   "metadata": {},
   "source": [
    "# Auxiliary Scripts"
   ]
  },
  {
   "cell_type": "markdown",
   "id": "8900cc39",
   "metadata": {},
   "source": [
    "## Database Loader"
   ]
  },
  {
   "cell_type": "code",
   "execution_count": 2,
   "id": "efd39f6b",
   "metadata": {},
   "outputs": [],
   "source": [
    "#python script that read files and then insert the data into the database\n",
    "#created by Raphael Duarte"
   ]
  },
  {
   "cell_type": "code",
   "execution_count": 3,
   "id": "07613cd1",
   "metadata": {},
   "outputs": [
    {
     "name": "stderr",
     "output_type": "stream",
     "text": [
      "C:\\Users\\Raphael\\AppData\\Local\\Programs\\Python\\Python310\\lib\\site-packages\\numpy\\_distributor_init.py:30: UserWarning: loaded more than 1 DLL from .libs:\n",
      "C:\\Users\\Raphael\\AppData\\Local\\Programs\\Python\\Python310\\lib\\site-packages\\numpy\\.libs\\libopenblas.EL2C6PLE4ZYW3ECEVIV3OXXGRN2NRFM2.gfortran-win_amd64.dll\n",
      "C:\\Users\\Raphael\\AppData\\Local\\Programs\\Python\\Python310\\lib\\site-packages\\numpy\\.libs\\libopenblas64__v0.3.21-gcc_10_3_0.dll\n",
      "  warnings.warn(\"loaded more than 1 DLL from .libs:\"\n"
     ]
    }
   ],
   "source": [
    "#import sqlalchemy\n",
    "import sqlalchemy as sqa\n",
    "from sqlalchemy.orm import declarative_base\n",
    "from sqlalchemy import func\n",
    "from sqlalchemy import ForeignKey\n",
    "from sqlalchemy.orm import relationship\n",
    "\n",
    "\n",
    "import timeit #for timing\n",
    "from datetime import datetime #for the timestamp\n",
    "import numpy as np\n",
    "\n",
    "from sqlalchemy.orm import sessionmaker"
   ]
  },
  {
   "cell_type": "code",
   "execution_count": 4,
   "id": "51e311cf",
   "metadata": {},
   "outputs": [
    {
     "data": {
      "text/plain": [
       "'1.4.45'"
      ]
     },
     "execution_count": 4,
     "metadata": {},
     "output_type": "execute_result"
    }
   ],
   "source": [
    "sqa.__version__  "
   ]
  },
  {
   "cell_type": "code",
   "execution_count": 5,
   "id": "28321376",
   "metadata": {},
   "outputs": [],
   "source": [
    "#creates engine to the database file\n",
    "engine = sqa.create_engine(\"sqlite:///Data/movie.db\")"
   ]
  },
  {
   "cell_type": "code",
   "execution_count": 6,
   "id": "12245103",
   "metadata": {},
   "outputs": [],
   "source": [
    "#creates declarative base\n",
    "Base = declarative_base()"
   ]
  },
  {
   "cell_type": "code",
   "execution_count": 7,
   "id": "02c9f492",
   "metadata": {},
   "outputs": [],
   "source": [
    "#creates class for communicating with the movie table\n",
    "class Movies(Base):\n",
    "    __tablename__ = 'movies'\n",
    "    \n",
    "    id_movie = sqa.Column(sqa.Integer, primary_key=True)\n",
    "    title_movie = sqa.Column(sqa.String)\n",
    "    year_movie = sqa.Column(sqa.Integer)\n",
    "    \n",
    "    \n",
    "    def __repr__(self):\n",
    "        return \"<Movie(id_movie='%i',title_movie='%s')>\" % (self.id_movie, self.title_movie)"
   ]
  },
  {
   "cell_type": "code",
   "execution_count": 8,
   "id": "51ac00c0",
   "metadata": {},
   "outputs": [],
   "source": [
    "#creates class for communicating with the movie table\n",
    "class Ratings(Base):\n",
    "    __tablename__ = 'ratings'\n",
    "    \n",
    "    id_rating = sqa.Column(sqa.Integer, primary_key=True)\n",
    "    id_movie = sqa.Column(sqa.Integer)\n",
    "    id_user = sqa.Column(sqa.Integer)\n",
    "    value_rating = sqa.Column(sqa.Float)\n",
    "    timestamp_rating = sqa.Column(sqa.String)\n",
    "\n",
    "    \n",
    "    def __repr__(self):\n",
    "        return \"<Rating(id_rating='%i',id_movie='%i',id_user='%i',value_rating='%i',timestamp_rating='%s')>\" % (self.id_rating,self.id_movie,self.id_user,self.value_rating, self.timestamp_rating)"
   ]
  },
  {
   "cell_type": "code",
   "execution_count": 9,
   "id": "114ef072",
   "metadata": {},
   "outputs": [],
   "source": [
    "#creates class for communicating with the movie table\n",
    "class GenreList(Base):\n",
    "    __tablename__ = 'genre_list'\n",
    "    \n",
    "    id_genre_item = sqa.Column(sqa.Integer, primary_key=True)\n",
    "    id_movie = sqa.Column(sqa.Integer)\n",
    "    name_genre = sqa.Column(sqa.String)\n",
    "    \n",
    "    \n",
    "    def __repr__(self):\n",
    "        return \"<GenreList(id_genre_item='%i',id_movie='%i',name_genre='%s')>\" % (self.id_genre_item,self.id_movie,self.id_user,self.name_genre)"
   ]
  },
  {
   "cell_type": "code",
   "execution_count": 10,
   "id": "381988d9",
   "metadata": {},
   "outputs": [],
   "source": [
    "#creates class for communicating with the movie table\n",
    "class ReferenceRatings(Base):\n",
    "    __tablename__ = 'reference_ratings'\n",
    "    \n",
    "    id_reference = sqa.Column(sqa.Integer, primary_key=True)\n",
    "    average_rating = sqa.Column(sqa.Float)\n",
    "    timestamp_update = sqa.Column(sqa.String)\n",
    "    onestar_rating = sqa.Column(sqa.Integer)\n",
    "    twostar_rating = sqa.Column(sqa.Integer)\n",
    "    threestar_rating = sqa.Column(sqa.Integer)\n",
    "    fourstar_rating = sqa.Column(sqa.Integer)\n",
    "    fivestar_rating = sqa.Column(sqa.Integer)\n",
    "    count_rating = sqa.Column(sqa.Integer)\n",
    "\n",
    "    \n",
    "    def __repr__(self):\n",
    "        return \"<Rating(id_movie='%i',average_rating='%i',timestamp_update='%s')>\" % (self.id_movie,self.average_rating, self.timestamp_update)"
   ]
  },
  {
   "cell_type": "code",
   "execution_count": 11,
   "id": "c8b0bf87",
   "metadata": {},
   "outputs": [],
   "source": [
    "class intersec_movies(Base):\n",
    "    __tablename__ = 'intersec_movies'\n",
    "    \n",
    "    id_intersec = sqa.Column(sqa.Integer, primary_key=True, index=True)\n",
    "    id_movieA = sqa.Column(sqa.Integer)\n",
    "    id_movieB = sqa.Column(sqa.Integer)\n",
    "    count_value = sqa.Column(sqa.Integer)\n",
    "    \n",
    "    def __repr__(self):\n",
    "        return \"<intersec_movies(id_moviAe='%i',id_moviAe='%i',count='%i')>\" % (self.id_movieA,self.id_movieB, self.count)"
   ]
  },
  {
   "cell_type": "code",
   "execution_count": 10,
   "id": "8ae9823e",
   "metadata": {
    "scrolled": true
   },
   "outputs": [
    {
     "data": {
      "text/plain": [
       "Table('movies', MetaData(), Column('id_movie', Integer(), table=<movies>, primary_key=True, nullable=False), Column('title_movie', String(), table=<movies>), Column('year_movie', Integer(), table=<movies>), schema=None)"
      ]
     },
     "execution_count": 10,
     "metadata": {},
     "output_type": "execute_result"
    }
   ],
   "source": [
    "Movies.__table__"
   ]
  },
  {
   "cell_type": "code",
   "execution_count": 11,
   "id": "4055b74d",
   "metadata": {},
   "outputs": [
    {
     "data": {
      "text/plain": [
       "Table('reference_ratings', MetaData(), Column('id_reference', Integer(), table=<reference_ratings>, primary_key=True, nullable=False), Column('average_rating', Float(), table=<reference_ratings>), Column('timestamp_update', String(), table=<reference_ratings>), Column('onestar_rating', Integer(), table=<reference_ratings>), Column('twostar_rating', Integer(), table=<reference_ratings>), Column('threestar_rating', Integer(), table=<reference_ratings>), Column('fourstar_rating', Integer(), table=<reference_ratings>), Column('fivestar_rating', Integer(), table=<reference_ratings>), Column('count_rating', Integer(), table=<reference_ratings>), schema=None)"
      ]
     },
     "execution_count": 11,
     "metadata": {},
     "output_type": "execute_result"
    }
   ],
   "source": [
    "ReferenceRatings.__table__"
   ]
  },
  {
   "cell_type": "code",
   "execution_count": 12,
   "id": "2bd1fbd3",
   "metadata": {},
   "outputs": [],
   "source": [
    "#connects to the database\n",
    "Session = sessionmaker(bind=engine)\n",
    "session = Session()"
   ]
  },
  {
   "cell_type": "code",
   "execution_count": null,
   "id": "3d4e6827",
   "metadata": {},
   "outputs": [],
   "source": [
    "#clear the movie table\n",
    "#mvs = session.query(Movies) #queries references\n",
    " \n",
    "#mvs.delete() #delete reference\n",
    "\n",
    "#session.commit()"
   ]
  },
  {
   "cell_type": "code",
   "execution_count": null,
   "id": "871ba2e9",
   "metadata": {},
   "outputs": [],
   "source": [
    "session.rollback()"
   ]
  },
  {
   "cell_type": "code",
   "execution_count": null,
   "id": "ad918a56",
   "metadata": {},
   "outputs": [],
   "source": [
    "session.flush()"
   ]
  },
  {
   "cell_type": "code",
   "execution_count": null,
   "id": "35070a8d",
   "metadata": {},
   "outputs": [],
   "source": [
    "#load the movies data into the movies table\n",
    "\n",
    "#open the file\n",
    "\n",
    "with open(\"Data/ml-25m/movies.csv\", encoding='utf-8') as f:\n",
    "    f.readline() #skip first line\n",
    "    count=1\n",
    "    for line in f:\n",
    "        items = line.split(sep=',')\n",
    "        movieid = items[0]\n",
    "        #process the title and year\n",
    "        title = (\",\".join(items[1:-1])).strip('\\\"').strip() #join all different items inside the title\n",
    "        print(title)\n",
    "        if(title[-6:][1:-1].isnumeric()): #check if year is correct\n",
    "            year = int(title[-6:][1:-1]) #gets the year from the title\n",
    "            title = title[:-7] #removes the year from the title if it is ther\n",
    "        else:\n",
    "            year = -1 #sets as -1 for unknown year\n",
    "        \n",
    "        #creates object\n",
    "        mv = Movies(id_movie=int(movieid), title_movie=title, year_movie=year)\n",
    "        #adds to section\n",
    "        session.add(mv)\n",
    "        genres = items[-1].split(sep=\"|\")\n",
    "        for genre in genres:\n",
    "            genre = genre.strip('\\n').strip('\\n')\n",
    "            gl = GenreList(id_genre_item=count,id_movie=int(movieid),name_genre=genre)\n",
    "            count+=1\n",
    "            #session.add(gl)\n",
    "        if(count%10000 == 0): \n",
    "            print(count)\n",
    "            session.commit()\n",
    "    session.commit()\n",
    "        \n",
    "    "
   ]
  },
  {
   "cell_type": "code",
   "execution_count": null,
   "id": "256ba263",
   "metadata": {},
   "outputs": [],
   "source": [
    "#load the ratings data into the rating table\n",
    "\n",
    "#open the file\n",
    "\n",
    "with open(\"Data/ml-25m/ratings.csv\", encoding='utf-8') as f:\n",
    "    f.readline() #skip first line\n",
    "    count=1\n",
    "    for line in f:\n",
    "        items = line.split(sep=',')\n",
    "        userid = items[0]\n",
    "        movieid = items[1]\n",
    "        rating = items[2]\n",
    "        timestamp = items[3]\n",
    "        #print(movieid)\n",
    "        rt = Ratings(id_rating=count, id_movie=int(movieid), id_user=int(userid), value_rating=float(rating), timestamp_rating=timestamp)\n",
    "        count+=1\n",
    "        #session.add(rt)\n",
    "        if(count%1000000 == 0): \n",
    "            print(count)\n",
    "            #session.commit()\n",
    "    #session.commit()"
   ]
  },
  {
   "cell_type": "markdown",
   "id": "cf414592",
   "metadata": {},
   "source": [
    "## Database Updater"
   ]
  },
  {
   "cell_type": "code",
   "execution_count": 13,
   "id": "04a343b3",
   "metadata": {},
   "outputs": [],
   "source": [
    "max_movie = session.query(func.max(Movies.id_movie)).all()[0][0] + 1 #number of movies\n",
    "\n",
    "aavg = np.zeros(max_movie)\n",
    "acount = np.zeros(max_movie)\n",
    "aone = np.zeros(max_movie)\n",
    "atwo = np.zeros(max_movie)\n",
    "athree = np.zeros(max_movie)\n",
    "afour = np.zeros(max_movie)\n",
    "afive = np.zeros(max_movie)\n",
    "\n",
    "#queries for temporary information\n",
    "one_star = session.query(Ratings.id_movie, func.count(Ratings.value_rating)).filter(Ratings.value_rating <= 1).group_by(Ratings.id_movie).order_by(Ratings.id_movie)\n",
    "two_star = session.query(Ratings.id_movie, func.count(Ratings.value_rating)).filter(Ratings.value_rating <= 2, Ratings.value_rating > 1).group_by(Ratings.id_movie).order_by(Ratings.id_movie) \n",
    "three_star = session.query(Ratings.id_movie, func.count(Ratings.value_rating)).filter(Ratings.value_rating <= 3, Ratings.value_rating > 2).group_by(Ratings.id_movie).order_by(Ratings.id_movie)\n",
    "four_star = session.query(Ratings.id_movie, func.count(Ratings.value_rating)).filter(Ratings.value_rating <= 4, Ratings.value_rating > 3).group_by(Ratings.id_movie).order_by(Ratings.id_movie)\n",
    "five_star = session.query(Ratings.id_movie, func.count(Ratings.value_rating)).filter(Ratings.value_rating <= 5, Ratings.value_rating > 4).group_by(Ratings.id_movie).order_by(Ratings.id_movie)\n",
    "average = session.query(Ratings.id_movie, func.avg(Ratings.value_rating), func.count(Ratings.value_rating)).group_by(Ratings.id_movie).order_by(Ratings.id_movie)\n",
    "\n",
    "\n",
    "list_values = zip(average,one_star,two_star,three_star,four_star,five_star)\n",
    "\n",
    "for item in list_values:\n",
    "    aavg[item[0][0]] = item[0][1]\n",
    "    acount[item[0][0]] = item[0][2]\n",
    "    aone[item[1][0]] = item[1][1]\n",
    "    atwo[item[2][0]] = item[2][1]\n",
    "    athree[item[3][0]] = item[3][1]\n",
    "    afour[item[4][0]] = item[4][1]\n",
    "    afive[item[5][0]] = item[5][1]"
   ]
  },
  {
   "cell_type": "code",
   "execution_count": 14,
   "id": "e778ec27",
   "metadata": {},
   "outputs": [],
   "source": [
    "rfavg = session.query(ReferenceRatings) #queries references\n",
    " \n",
    "rfavg.delete() #delete reference\n",
    "\n",
    "session.commit()"
   ]
  },
  {
   "cell_type": "code",
   "execution_count": 15,
   "id": "fa0e27ad",
   "metadata": {},
   "outputs": [],
   "source": [
    "\n",
    "rfavg = session.query(ReferenceRatings) #queries references\n",
    " \n",
    "rfavg.delete() #delete reference\n",
    "\n",
    "for i in range(0, max_movie):\n",
    "    idm = i\n",
    "    avg = aavg[i]\n",
    "    time = datetime.now().strftime(\"%Y/%m/%d, %H:%M:%S\")\n",
    "    one = aone[i]\n",
    "    two = atwo[i]\n",
    "    three = athree[i]\n",
    "    four = afour[i]\n",
    "    five = afive[i]\n",
    "    count = acount[i]\n",
    "    \n",
    "    \n",
    "    rf = ReferenceRatings(id_reference=idm, \n",
    "                          average_rating=avg, \n",
    "                          timestamp_update=time, \n",
    "                          onestar_rating=one, \n",
    "                          twostar_rating=two,\n",
    "                          threestar_rating=three,\n",
    "                          fourstar_rating=four,\n",
    "                          fivestar_rating=five,\n",
    "                          count_rating=count)\n",
    "    session.add(rf)\n",
    "session.commit()\n",
    "    "
   ]
  }
 ],
 "metadata": {
  "kernelspec": {
   "display_name": "Python 3 (ipykernel)",
   "language": "python",
   "name": "python3"
  },
  "language_info": {
   "codemirror_mode": {
    "name": "ipython",
    "version": 3
   },
   "file_extension": ".py",
   "mimetype": "text/x-python",
   "name": "python",
   "nbconvert_exporter": "python",
   "pygments_lexer": "ipython3",
   "version": "3.10.4"
  }
 },
 "nbformat": 4,
 "nbformat_minor": 5
}
