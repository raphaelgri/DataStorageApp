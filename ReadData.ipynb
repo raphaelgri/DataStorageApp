{
 "cells": [
  {
   "cell_type": "code",
   "execution_count": 1,
   "id": "ba725f4c",
   "metadata": {},
   "outputs": [],
   "source": [
    "#import sqlalchemy\n",
    "import sqlalchemy as sqa\n",
    "from sqlalchemy.orm import declarative_base\n",
    "\n",
    "from sqlalchemy.orm import sessionmaker"
   ]
  },
  {
   "cell_type": "code",
   "execution_count": 2,
   "id": "f5ae876a",
   "metadata": {},
   "outputs": [],
   "source": [
    "#creates engine to the database file\n",
    "engine = sqa.create_engine(\"sqlite:///Data/movie.db\")"
   ]
  },
  {
   "cell_type": "code",
   "execution_count": 3,
   "id": "055ed374",
   "metadata": {},
   "outputs": [],
   "source": [
    "#creates declarative base\n",
    "Base = declarative_base()"
   ]
  },
  {
   "cell_type": "code",
   "execution_count": 4,
   "id": "372de997",
   "metadata": {},
   "outputs": [],
   "source": [
    "#creates class for communicating with the movie table\n",
    "class Movies(Base):\n",
    "    __tablename__ = 'movies'\n",
    "    \n",
    "    id_movie = sqa.Column(sqa.Integer, primary_key=True)\n",
    "    title_movie = sqa.Column(sqa.String)\n",
    "    \n",
    "    \n",
    "    def __repr__(self):\n",
    "        return \"<Movie(id_movie='%i',title_movie='%s')>\" % (self.id_movie, self.title_movie)\n",
    "\n",
    "#creates class for communicating with the movie table\n",
    "class Ratings(Base):\n",
    "    __tablename__ = 'ratings'\n",
    "    \n",
    "    id_rating = sqa.Column(sqa.Integer, primary_key=True)\n",
    "    id_movie = sqa.Column(sqa.Integer)\n",
    "    id_user = sqa.Column(sqa.Integer)\n",
    "    value_rating = sqa.Column(sqa.Float)\n",
    "    timestamp_rating = sqa.Column(sqa.String)\n",
    "\n",
    "    \n",
    "    def __repr__(self):\n",
    "        return \"<Rating(id_rating='%i',id_movie='%i',id_user='%i',value_rating='%i',timestamp_rating='%s')>\" % (self.id_rating,self.id_movie,self.id_user,self.value_rating, self.timestamp_rating)\n",
    "    \n",
    "#creates class for communicating with the movie table\n",
    "class GenreList(Base):\n",
    "    __tablename__ = 'genre_list'\n",
    "    \n",
    "    id_genre_item = sqa.Column(sqa.Integer, primary_key=True)\n",
    "    id_movie = sqa.Column(sqa.Integer)\n",
    "    name_genre = sqa.Column(sqa.String)\n",
    "    \n",
    "    \n",
    "    def __repr__(self):\n",
    "        return \"<GenreList(id_genre_item='%i',id_movie='%i',name_genre='%s')>\" % (self.id_genre_item,self.id_movie,self.id_user,self.name_genre)"
   ]
  },
  {
   "cell_type": "code",
   "execution_count": 5,
   "id": "67274154",
   "metadata": {},
   "outputs": [],
   "source": [
    "#connects to the database\n",
    "Session = sessionmaker(bind=engine)\n",
    "session = Session()"
   ]
  },
  {
   "cell_type": "code",
   "execution_count": 13,
   "id": "de3f67b5",
   "metadata": {},
   "outputs": [
    {
     "name": "stdout",
     "output_type": "stream",
     "text": [
      "Jumanji (1995)\n",
      "Grumpier Old Men (1995)\n",
      "Waiting to Exhale (1995)\n",
      "Father of the Bride Part II (1995)\n",
      "Heat (1995)\n",
      "Sabrina (1995)\n",
      "Tom and Huck (1995)\n",
      "Sudden Death (1995)\n",
      "GoldenEye (1995)\n",
      "American President, The (1995)\n",
      "Dracula: Dead and Loving It (1995)\n",
      "Balto (1995)\n",
      "Nixon (1995)\n",
      "Cutthroat Island (1995)\n",
      "Casino (1995)\n",
      "Sense and Sensibility (1995)\n",
      "Four Rooms (1995)\n",
      "Ace Ventura: When Nature Calls (1995)\n",
      "Money Train (1995)\n",
      "Get Shorty (1995)\n",
      "Copycat (1995)\n",
      "Assassins (1995)\n",
      "Powder (1995)\n",
      "Leaving Las Vegas (1995)\n",
      "Othello (1995)\n",
      "Now and Then (1995)\n",
      "Persuasion (1995)\n",
      "City of Lost Children, The (Cité des enfants perdus, La) (1995)\n",
      "Shanghai Triad (Yao a yao yao dao waipo qiao) (1995)\n"
     ]
    }
   ],
   "source": [
    "for m in session.query(Movies).order_by(Movies.id_movie)[1:30]:\n",
    "    print(m.title_movie)"
   ]
  },
  {
   "cell_type": "code",
   "execution_count": 30,
   "id": "14131da0",
   "metadata": {},
   "outputs": [
    {
     "name": "stdout",
     "output_type": "stream",
     "text": [
      "Jumanji: Welcome to the Jungle (2017)\n"
     ]
    }
   ],
   "source": [
    "for m in (session.query(Movies).filter(Movies.title_movie.like(\"%Jumanji%Welcome%\"))[0:30]):\n",
    "    print(m.title_movie)"
   ]
  },
  {
   "cell_type": "code",
   "execution_count": null,
   "id": "13205e62",
   "metadata": {},
   "outputs": [],
   "source": [
    ".filter(m.title_movie.like(\"%Jumanji%\").order_by(Movies.id_movie)"
   ]
  }
 ],
 "metadata": {
  "kernelspec": {
   "display_name": "Python 3 (ipykernel)",
   "language": "python",
   "name": "python3"
  },
  "language_info": {
   "codemirror_mode": {
    "name": "ipython",
    "version": 3
   },
   "file_extension": ".py",
   "mimetype": "text/x-python",
   "name": "python",
   "nbconvert_exporter": "python",
   "pygments_lexer": "ipython3",
   "version": "3.10.4"
  }
 },
 "nbformat": 4,
 "nbformat_minor": 5
}
