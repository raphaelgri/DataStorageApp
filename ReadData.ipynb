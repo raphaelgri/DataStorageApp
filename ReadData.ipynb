{
 "cells": [
  {
   "cell_type": "code",
   "execution_count": 11,
   "id": "ba725f4c",
   "metadata": {},
   "outputs": [],
   "source": [
    "#import sqlalchemy\n",
    "import sqlalchemy as sqa\n",
    "from sqlalchemy.orm import declarative_base\n",
    "from sqlalchemy import func\n",
    "from sqlalchemy import ForeignKey\n",
    "from sqlalchemy.orm import relationship\n",
    "\n",
    "import timeit #for timing\n",
    "\n",
    "from sqlalchemy.orm import sessionmaker"
   ]
  },
  {
   "cell_type": "code",
   "execution_count": 12,
   "id": "f5ae876a",
   "metadata": {},
   "outputs": [],
   "source": [
    "#creates engine to the database file\n",
    "engine = sqa.create_engine(\"sqlite:///Data/movie.db\")"
   ]
  },
  {
   "cell_type": "code",
   "execution_count": 13,
   "id": "055ed374",
   "metadata": {},
   "outputs": [],
   "source": [
    "#creates declarative base\n",
    "Base = declarative_base()"
   ]
  },
  {
   "cell_type": "code",
   "execution_count": 14,
   "id": "372de997",
   "metadata": {},
   "outputs": [],
   "source": [
    "#creates class for communicating with the movie table\n",
    "class Movies(Base):\n",
    "    __tablename__ = 'movies'\n",
    "    \n",
    "    id_movie = sqa.Column(sqa.Integer, primary_key=True)\n",
    "    title_movie = sqa.Column(sqa.String)\n",
    "    year_movie = sqa.Column(sqa.Integer)\n",
    "    \n",
    "    def __repr__(self):\n",
    "        return \"<Movie(id_movie='%i',title_movie='%s')>\" % (self.id_movie, self.title_movie)\n",
    "\n",
    "#creates class for communicating with the movie table\n",
    "class Ratings(Base):\n",
    "    __tablename__ = 'ratings'\n",
    "    \n",
    "    id_rating = sqa.Column(sqa.Integer, primary_key=True)\n",
    "    id_movie = sqa.Column(sqa.Integer)\n",
    "    id_user = sqa.Column(sqa.Integer)\n",
    "    value_rating = sqa.Column(sqa.Float)\n",
    "    timestamp_rating = sqa.Column(sqa.String)\n",
    "\n",
    "    \n",
    "    def __repr__(self):\n",
    "        return \"<Rating(id_rating='%i',id_movie='%i',id_user='%i',value_rating='%i',timestamp_rating='%s')>\" % (self.id_rating,self.id_movie,self.id_user,self.value_rating, self.timestamp_rating)\n",
    "\n",
    "#creates class for communicating with the movie table\n",
    "class GenreList(Base):\n",
    "    __tablename__ = 'genre_list'\n",
    "    \n",
    "    id_genre_item = sqa.Column(sqa.Integer, primary_key=True)\n",
    "    id_movie = sqa.Column(sqa.Integer)\n",
    "    name_genre = sqa.Column(sqa.String)\n",
    "    \n",
    "    \n",
    "    def __repr__(self):\n",
    "        return \"<GenreList(id_genre_item='%i',id_movie='%i',name_genre='%s')>\" % (self.id_genre_item,self.id_movie,self.id_user,self.name_genre)\n",
    "\n",
    "    \n",
    "#creates class temporary reference of average rating\n",
    "class ReferenceRatings(Base):\n",
    "    __tablename__ = 'reference_ratings'\n",
    "    \n",
    "    id_reference = sqa.Column(sqa.Integer, primary_key=True)\n",
    "    average_rating = sqa.Column(sqa.Float)\n",
    "    timestamp_update = sqa.Column(sqa.String)\n",
    "\n",
    "    \n",
    "    def __repr__(self):\n",
    "        return \"<Rating(id_movie='%i',average_rating='%i',timestamp_update='%s')>\" % (self.id_movie,self.average_rating, self.timestamp_update)\n",
    "\n",
    "#relationships\n",
    "\n",
    "#Ratings.movie = relationship(\"Movies\", back_populates=\"ratings\")\n",
    "#Movies.ratings = relationship(\"Ratings\", order_by=Ratings.id_rating, back_populates=\"movie\")"
   ]
  },
  {
   "cell_type": "code",
   "execution_count": 21,
   "id": "67274154",
   "metadata": {},
   "outputs": [],
   "source": [
    "#connects to the database\n",
    "Session = sessionmaker(bind=engine)\n",
    "session = Session()"
   ]
  },
  {
   "cell_type": "code",
   "execution_count": 16,
   "id": "de3f67b5",
   "metadata": {},
   "outputs": [
    {
     "name": "stdout",
     "output_type": "stream",
     "text": [
      "Jumanji\n",
      "Grumpier Old Men\n",
      "Waiting to Exhale\n",
      "Father of the Bride Part II\n",
      "Heat\n",
      "Sabrina\n",
      "Tom and Huck\n",
      "Sudden Death\n",
      "GoldenEye\n",
      "American President, The\n",
      "Dracula: Dead and Loving It\n",
      "Balto\n",
      "Nixon\n",
      "Cutthroat Island\n",
      "Casino\n",
      "Sense and Sensibility\n",
      "Four Rooms\n",
      "Ace Ventura: When Nature Calls\n",
      "Money Train\n",
      "Get Shorty\n",
      "Copycat\n",
      "Assassins\n",
      "Powder\n",
      "Leaving Las Vegas\n",
      "Othello\n",
      "Now and Then\n",
      "Persuasion\n",
      "City of Lost Children, The (Cité des enfants perdus, La)\n",
      "Shanghai Triad (Yao a yao yao dao waipo qiao)\n"
     ]
    }
   ],
   "source": [
    "for m in session.query(Movies).order_by(Movies.id_movie)[1:30]:\n",
    "    print(m.title_movie)"
   ]
  },
  {
   "cell_type": "code",
   "execution_count": 17,
   "id": "14131da0",
   "metadata": {},
   "outputs": [
    {
     "name": "stdout",
     "output_type": "stream",
     "text": [
      "Jumanji: Welcome to the Jungle\n",
      "Time:  0.009717299981275573\n"
     ]
    }
   ],
   "source": [
    "start = timeit.default_timer()\n",
    "for m in (session.query(Movies).filter(Movies.title_movie.like(\"%Jumanji%Welcome%\"))[0:30]):\n",
    "    print(m.title_movie)\n",
    "\n",
    "stop = timeit.default_timer()\n",
    "\n",
    "print('Time: ', stop - start) "
   ]
  },
  {
   "cell_type": "code",
   "execution_count": 18,
   "id": "13205e62",
   "metadata": {},
   "outputs": [
    {
     "name": "stdout",
     "output_type": "stream",
     "text": [
      "[(1, 1, 3.893707794587238), (2, 2, 3.2515271586594023), (3, 3, 3.142028126058963), (4, 4, 2.85354736424891), (5, 5, 3.0584343520573674), (6, 6, 3.854908898649748), (7, 7, 3.3636663369601054), (8, 8, 3.1145833333333335), (9, 9, 2.992050660199407), (10, 10, 3.42145763311516)]\n",
      "Time:  31.270083500014152\n"
     ]
    }
   ],
   "source": [
    "start = timeit.default_timer() #start timer\n",
    "\n",
    "query = session.query(Movies.id_movie, Ratings.id_movie, func.avg(Ratings.value_rating)).filter(Movies.id_movie == Ratings.id_movie).order_by(Movies.id_movie).group_by(Movies.id_movie)[0:30]\n",
    "print(query[:10])\n",
    "\n",
    "stop = timeit.default_timer() #end timer\n",
    "\n",
    "print('Time: ', stop - start) "
   ]
  },
  {
   "cell_type": "code",
   "execution_count": 9,
   "id": "6cfd3eef",
   "metadata": {},
   "outputs": [
    {
     "name": "stdout",
     "output_type": "stream",
     "text": [
      "[(1, 3.893707794587238), (2, 3.2515271586594023), (3, 3.142028126058963), (4, 2.85354736424891), (5, 3.0584343520573674), (6, 3.854908898649748), (7, 3.3636663369601054), (8, 3.1145833333333335), (9, 2.992050660199407), (10, 3.42145763311516)]\n",
      "Time:  0.0017033999902196229\n"
     ]
    }
   ],
   "source": [
    "start = timeit.default_timer() #start timer\n",
    "\n",
    "query = session.query(Movies.id_movie, ReferenceRatings.average_rating,).filter(Movies.id_movie == ReferenceRatings.id_reference).order_by(Movies.id_movie)[0:30]\n",
    "print(query[:10])\n",
    "\n",
    "stop = timeit.default_timer() #end timer\n",
    "\n",
    "print('Time: ', stop - start) "
   ]
  },
  {
   "cell_type": "code",
   "execution_count": 26,
   "id": "df9617db",
   "metadata": {},
   "outputs": [
    {
     "name": "stdout",
     "output_type": "stream",
     "text": [
      "3.893707794587238\n",
      "3.2515271586594023\n",
      "3.142028126058963\n",
      "2.85354736424891\n",
      "3.0584343520573674\n",
      "3.854908898649748\n",
      "3.3636663369601054\n",
      "3.1145833333333335\n",
      "2.992050660199407\n",
      "3.42145763311516\n",
      "3.6571705198920315\n",
      "2.6245656241646618\n",
      "3.333527696793003\n",
      "3.4234888364494465\n",
      "2.7190217391304348\n",
      "3.8237068028689416\n",
      "3.948806325713417\n",
      "3.3843505768515074\n",
      "2.6421677802524126\n",
      "2.869921875\n",
      "3.5701620505454055\n",
      "3.3200173216412256\n",
      "3.145691333982473\n",
      "3.18758389261745\n",
      "3.677304434479322\n",
      "3.606708513142409\n",
      "3.4039315155358274\n",
      "4.03\n",
      "3.936724864539434\n",
      "3.6367924528301887\n",
      "Time:  0.0017934000061359257\n"
     ]
    }
   ],
   "source": [
    "start = timeit.default_timer() #start timer\n",
    "for m in session.query(Movies.title_movie, Movies.year_movie,ReferenceRatings.average_rating).filter(Movies.id_movie == ReferenceRatings.id_reference).order_by(Movies.id_movie)[0:30]:\n",
    "    print(m[2])\n",
    "stop = timeit.default_timer() #end timer\n",
    "\n",
    "print('Time: ', stop - start) "
   ]
  },
  {
   "cell_type": "code",
   "execution_count": 36,
   "id": "af2abbbe",
   "metadata": {},
   "outputs": [
    {
     "name": "stdout",
     "output_type": "stream",
     "text": [
      "Adventure\n",
      "Animation\n",
      "Children\n",
      "Comedy\n",
      "Fantasy\n",
      "Romance\n",
      "Drama\n",
      "Comedy\n",
      "Action\n",
      "Crime\n",
      "Thriller\n",
      "Children\n",
      "Action\n",
      "Horror\n",
      "Drama\n",
      "Horror\n",
      "Mystery\n",
      "Sci-Fi\n",
      "Fantasy\n",
      "Sci-Fi\n",
      "Romance\n",
      "IMAX\n",
      "Documentary\n",
      "War\n",
      "Musical\n",
      "Mystery\n",
      "Crime\n",
      "Documentary\n",
      "Musical\n",
      "Thriller\n",
      "Western\n",
      "Film-Noir\n",
      "War\n",
      "Animation\n",
      "Adventure\n",
      "Film-Noir\n",
      "Western\n",
      "(no genres listed)\n",
      "Time:  0.02149790001567453\n"
     ]
    }
   ],
   "source": [
    "start = timeit.default_timer()\n",
    "for m in (session.query(GenreList.name_genre.distinct())):\n",
    "    print(m[0].strip('\\n'))\n",
    "\n",
    "stop = timeit.default_timer()\n",
    "\n",
    "print('Time: ', stop - start) "
   ]
  },
  {
   "cell_type": "code",
   "execution_count": null,
   "id": "7dd3957a",
   "metadata": {},
   "outputs": [],
   "source": []
  }
 ],
 "metadata": {
  "kernelspec": {
   "display_name": "Python 3 (ipykernel)",
   "language": "python",
   "name": "python3"
  },
  "language_info": {
   "codemirror_mode": {
    "name": "ipython",
    "version": 3
   },
   "file_extension": ".py",
   "mimetype": "text/x-python",
   "name": "python",
   "nbconvert_exporter": "python",
   "pygments_lexer": "ipython3",
   "version": "3.10.4"
  }
 },
 "nbformat": 4,
 "nbformat_minor": 5
}
