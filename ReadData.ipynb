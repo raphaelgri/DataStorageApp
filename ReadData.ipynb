{
 "cells": [
  {
   "cell_type": "code",
   "execution_count": null,
   "id": "ba725f4c",
   "metadata": {},
   "outputs": [],
   "source": [
    "#import sqlalchemy\n",
    "import sqlalchemy as sqa\n",
    "from sqlalchemy.orm import declarative_base\n",
    "from sqlalchemy import func\n",
    "from sqlalchemy import ForeignKey\n",
    "from sqlalchemy.orm import relationship\n",
    "from sqlalchemy import case\n",
    "from sqlalchemy import desc\n",
    "\n",
    "import timeit #for timing\n",
    "import matplotlib.pyplot as plt\n",
    "import numpy as np\n",
    "\n",
    "from sqlalchemy.orm import sessionmaker"
   ]
  },
  {
   "cell_type": "code",
   "execution_count": null,
   "id": "f5ae876a",
   "metadata": {},
   "outputs": [],
   "source": [
    "#creates engine to the database file\n",
    "engine = sqa.create_engine(\"sqlite:///Data/movie.db\")"
   ]
  },
  {
   "cell_type": "code",
   "execution_count": null,
   "id": "055ed374",
   "metadata": {},
   "outputs": [],
   "source": [
    "#creates declarative base\n",
    "Base = declarative_base()"
   ]
  },
  {
   "cell_type": "code",
   "execution_count": null,
   "id": "372de997",
   "metadata": {},
   "outputs": [],
   "source": [
    "#creates class for communicating with the movie table\n",
    "class Movies(Base):\n",
    "    __tablename__ = 'movies'\n",
    "    \n",
    "    id_movie = sqa.Column(sqa.Integer, primary_key=True)\n",
    "    title_movie = sqa.Column(sqa.String)\n",
    "    year_movie = sqa.Column(sqa.Integer)\n",
    "    \n",
    "    def __repr__(self):\n",
    "        return \"<Movie(id_movie='%i',title_movie='%s')>\" % (self.id_movie, self.title_movie)\n",
    "\n",
    "#creates class for communicating with the movie table\n",
    "class Ratings(Base):\n",
    "    __tablename__ = 'ratings'\n",
    "    \n",
    "    id_rating = sqa.Column(sqa.Integer, primary_key=True)\n",
    "    id_movie = sqa.Column(sqa.Integer)\n",
    "    id_user = sqa.Column(sqa.Integer)\n",
    "    value_rating = sqa.Column(sqa.Float)\n",
    "    timestamp_rating = sqa.Column(sqa.String)\n",
    "\n",
    "    \n",
    "    def __repr__(self):\n",
    "        return \"<Rating(id_rating='%i',id_movie='%i',id_user='%i',value_rating='%i',timestamp_rating='%s')>\" % (self.id_rating,self.id_movie,self.id_user,self.value_rating, self.timestamp_rating)\n",
    "\n",
    "#creates class for communicating with the movie table\n",
    "class GenreList(Base):\n",
    "    __tablename__ = 'genre_list'\n",
    "    \n",
    "    id_genre_item = sqa.Column(sqa.Integer, primary_key=True)\n",
    "    id_movie = sqa.Column(sqa.Integer)\n",
    "    name_genre = sqa.Column(sqa.String)\n",
    "    \n",
    "    \n",
    "    def __repr__(self):\n",
    "        return \"<GenreList(id_genre_item='%i',id_movie='%i',name_genre='%s')>\" % (self.id_genre_item,self.id_movie,self.id_user,self.name_genre)\n",
    "\n",
    "    \n",
    "#creates class temporary reference of average rating\n",
    "class ReferenceRatings(Base):\n",
    "    __tablename__ = 'reference_ratings'\n",
    "    \n",
    "    id_reference = sqa.Column(sqa.Integer, primary_key=True)\n",
    "    average_rating = sqa.Column(sqa.Float)\n",
    "    timestamp_update = sqa.Column(sqa.String)\n",
    "    onestar_rating = sqa.Column(sqa.Integer)\n",
    "    twostar_rating = sqa.Column(sqa.Integer)\n",
    "    threestar_rating = sqa.Column(sqa.Integer)\n",
    "    fourstar_rating = sqa.Column(sqa.Integer)\n",
    "    fivestar_rating = sqa.Column(sqa.Integer)\n",
    "    count_rating = sqa.Column(sqa.Integer)\n",
    "    \n",
    "\n",
    "    \n",
    "    def __repr__(self):\n",
    "        return \"<Rating(id_movie='%i',average_rating='%i',timestamp_update='%s')>\" % (self.id_reference,self.average_rating, self.timestamp_update)\n",
    "\n",
    "class intersec_movies(Base):\n",
    "    __tablename__ = 'intersec_movies'\n",
    "    \n",
    "    id_intersec = sqa.Column(sqa.Integer, primary_key=True, index=True)\n",
    "    id_movieA = sqa.Column(sqa.Integer)\n",
    "    id_movieB = sqa.Column(sqa.Integer)\n",
    "    count_value = sqa.Column(sqa.Integer)\n",
    "    \n",
    "    def __repr__(self):\n",
    "        return \"<intersec_movies(id_moviAe='%i',id_moviAe='%i',count='%i')>\" % (self.id_movieA,self.id_movieB, self.count_value)\n",
    "\n",
    "class intersec_users(Base):\n",
    "    __tablename__ = 'intersec_users'\n",
    "    \n",
    "    id_intersec_user = sqa.Column(sqa.Integer, primary_key=True, index=True)\n",
    "    id_userA = sqa.Column(sqa.Integer)\n",
    "    id_userB = sqa.Column(sqa.Integer)\n",
    "    similarity_user = sqa.Column(sqa.Integer)\n",
    "    \n",
    "    def __repr__(self):\n",
    "        return \"<intersec_users(id_intersec_user='%i',id_userA='%i',id_userB='%i', count='%i')>\" % (self.id_intersec_user,self.id_userA,self.id_userB, self.similarity_user)\n",
    "\n",
    "class intersec_movies_2(Base):\n",
    "    __tablename__ = 'intersec_movies_2'\n",
    "    \n",
    "    id_intersec_movie = sqa.Column(sqa.Integer, primary_key=True, index=True)\n",
    "    id_movieA = sqa.Column(sqa.Integer, index=True)\n",
    "    id_movieB = sqa.Column(sqa.Integer, index=True)\n",
    "    similarity_movie = sqa.Column(sqa.Float)\n",
    "    \n",
    "    def __repr__(self):\n",
    "        return \"<intersec_movies(id_intersec_movie='%i',id_movieA='%i',id_movieB='%i', similarity='%i')>\" % (self.id_intersec_movie,self.id_movieA,self.id_movieB, self.similarity_movie)\n",
    "\n",
    "    \n",
    "#relationships\n",
    "\n",
    "#Ratings.movie = relationship(\"Movies\", back_populates=\"ratings\")\n",
    "#Movies.ratings = relationship(\"Ratings\", order_by=Ratings.id_rating, back_populates=\"movie\")"
   ]
  },
  {
   "cell_type": "code",
   "execution_count": null,
   "id": "67274154",
   "metadata": {},
   "outputs": [],
   "source": [
    "#connects to the database\n",
    "Session = sessionmaker(bind=engine)\n",
    "session = Session()"
   ]
  },
  {
   "cell_type": "code",
   "execution_count": null,
   "id": "de3f67b5",
   "metadata": {},
   "outputs": [],
   "source": [
    "for m in session.query(Movies).order_by(Movies.id_movie)[1:30]:\n",
    "    print(m.title_movie)"
   ]
  },
  {
   "cell_type": "code",
   "execution_count": null,
   "id": "14131da0",
   "metadata": {},
   "outputs": [],
   "source": [
    "start = timeit.default_timer()\n",
    "for m in (session.query(Movies).filter(Movies.title_movie.like(\"%Jumanji%Welcome%\"))[0:30]):\n",
    "    print(m.title_movie)\n",
    "\n",
    "stop = timeit.default_timer()\n",
    "\n",
    "print('Time: ', stop - start) "
   ]
  },
  {
   "cell_type": "code",
   "execution_count": null,
   "id": "80e99f8a",
   "metadata": {},
   "outputs": [],
   "source": [
    "query = session.query(ReferenceRatings.id_reference, ReferenceRatings.average_rating, ReferenceRatings.count_rating)"
   ]
  },
  {
   "cell_type": "code",
   "execution_count": null,
   "id": "16408160",
   "metadata": {},
   "outputs": [],
   "source": [
    "query_arr = np.asarray(query[:])"
   ]
  },
  {
   "cell_type": "code",
   "execution_count": null,
   "id": "e53ffd7f",
   "metadata": {},
   "outputs": [],
   "source": [
    "query_arr[1]"
   ]
  },
  {
   "cell_type": "code",
   "execution_count": null,
   "id": "995e406d",
   "metadata": {},
   "outputs": [],
   "source": [
    "sample_average = query_arr[:,1]\n",
    "sample_counts = query_arr[:,2]\n",
    "\n",
    "x = np.argsort(sample_average)\n",
    "sample_average = np.sort(sample_average)\n",
    "sample_counts = sample_counts[x]"
   ]
  },
  {
   "cell_type": "code",
   "execution_count": null,
   "id": "03117f72",
   "metadata": {},
   "outputs": [],
   "source": [
    "sample_counts[5000]"
   ]
  },
  {
   "cell_type": "code",
   "execution_count": null,
   "id": "8eca5c72",
   "metadata": {},
   "outputs": [],
   "source": [
    "sample[2]"
   ]
  },
  {
   "cell_type": "code",
   "execution_count": null,
   "id": "ee146dec",
   "metadata": {},
   "outputs": [],
   "source": [
    "sample = np.sort(sample)"
   ]
  },
  {
   "cell_type": "code",
   "execution_count": null,
   "id": "97d50f09",
   "metadata": {
    "scrolled": false
   },
   "outputs": [],
   "source": [
    "start = timeit.default_timer() #start timer\n",
    "\n",
    "max_movie = session.query(func.max(Movies.id_movie)).all()[0][0] + 1 #number of movies\n",
    "\n",
    "aavg = np.zeros(max_movie)\n",
    "acount = np.zeros(max_movie)\n",
    "aone = np.zeros(max_movie)\n",
    "atwo = np.zeros(max_movie)\n",
    "athree = np.zeros(max_movie)\n",
    "afour = np.zeros(max_movie)\n",
    "afive = np.zeros(max_movie)\n",
    "\n",
    "#queries for temporary information\n",
    "one_star = session.query(Ratings.id_movie, func.count(Ratings.value_rating)).filter(Ratings.value_rating <= 1).group_by(Ratings.id_movie).order_by(Ratings.id_movie)\n",
    "two_star = session.query(Ratings.id_movie, func.count(Ratings.value_rating)).filter(Ratings.value_rating <= 2, Ratings.value_rating > 1).group_by(Ratings.id_movie).order_by(Ratings.id_movie) \n",
    "three_star = session.query(Ratings.id_movie, func.count(Ratings.value_rating)).filter(Ratings.value_rating <= 3, Ratings.value_rating > 2).group_by(Ratings.id_movie).order_by(Ratings.id_movie)\n",
    "four_star = session.query(Ratings.id_movie, func.count(Ratings.value_rating)).filter(Ratings.value_rating <= 4, Ratings.value_rating > 3).group_by(Ratings.id_movie).order_by(Ratings.id_movie)\n",
    "five_star = session.query(Ratings.id_movie, func.count(Ratings.value_rating)).filter(Ratings.value_rating <= 5, Ratings.value_rating > 4).group_by(Ratings.id_movie).order_by(Ratings.id_movie)\n",
    "average = session.query(Ratings.id_movie, func.avg(Ratings.value_rating), func.count(Ratings.value_rating)).group_by(Ratings.id_movie).order_by(Ratings.id_movie)\n",
    "\n",
    "\n",
    "list_values = zip(average,one_star,two_star,three_star,four_star,five_star)\n",
    "\n",
    "for item in list_values:\n",
    "    aavg[item[0][0]] = item[0][1]\n",
    "    acount[item[0][0]] = item[0][2]\n",
    "    aone[item[1][0]] = item[1][1]\n",
    "    atwo[item[2][0]] = item[2][1]\n",
    "    athree[item[3][0]] = item[3][1]\n",
    "    afour[item[4][0]] = item[4][1]\n",
    "    afive[item[5][0]] = item[5][1]\n",
    "    \n",
    "\n",
    "stop = timeit.default_timer() #end timer\n",
    "\n",
    "print('Time: ', stop - start) "
   ]
  },
  {
   "cell_type": "code",
   "execution_count": null,
   "id": "247ba740",
   "metadata": {},
   "outputs": [],
   "source": [
    "#create list for number of ratings and average\n",
    "\n",
    "aavg = np.zeros\n",
    "\n",
    "start = timeit.default_timer() #start timer\n",
    "\n",
    "list_values = zip(average,one_star,two_star,three_star,four_star,five_star)\n",
    "\n",
    "for item in list_values:\n",
    "    #print(\"MovieID:\" + str(item[0][0]) + \" AVG:\" + str(item[0][1]) + \" COUNT:\" + str(item[0][2]))\n",
    "    id_1 = item[0][0]\n",
    "    id_2 = item[1][0]\n",
    "    id_3 = item[2][0]\n",
    "    id_4 = item[3][0]\n",
    "    id_5 = item[4][0]\n",
    "    id_6 = item[5][0]\n",
    "\n",
    "stop = timeit.default_timer() #end timer\n",
    "\n",
    "print('Time: ', stop - start) "
   ]
  },
  {
   "cell_type": "code",
   "execution_count": null,
   "id": "37ee3cd4",
   "metadata": {},
   "outputs": [],
   "source": [
    "start = timeit.default_timer() #start timer\n",
    "\n",
    "query = session.query(Movies.id_movie, ReferenceRatings.average_rating,).filter(Movies.id_movie == ReferenceRatings.id_reference).order_by(Movies.id_movie)[0:30]\n",
    "print(query[:10])\n",
    "\n",
    "stop = timeit.default_timer() #end timer\n",
    "\n",
    "print('Time: ', stop - start) "
   ]
  },
  {
   "cell_type": "code",
   "execution_count": null,
   "id": "2730d4a4",
   "metadata": {},
   "outputs": [],
   "source": [
    "start = timeit.default_timer() #start timer\n",
    "for m in session.query(Movies.title_movie, Movies.year_movie,ReferenceRatings.average_rating).filter(Movies.id_movie == ReferenceRatings.id_reference).order_by(Movies.id_movie)[0:30]:\n",
    "    print(m)\n",
    "stop = timeit.default_timer() #end timer\n",
    "\n",
    "print('Time: ', stop - start) "
   ]
  },
  {
   "cell_type": "code",
   "execution_count": null,
   "id": "99624e97",
   "metadata": {},
   "outputs": [],
   "source": [
    "start = timeit.default_timer()\n",
    "for m in (session.query(GenreList.name_genre.distinct())):\n",
    "    print(m[0].strip('\\n'))\n",
    "\n",
    "stop = timeit.default_timer()\n",
    "\n",
    "print('Time: ', stop - start) "
   ]
  },
  {
   "cell_type": "code",
   "execution_count": null,
   "id": "4ce69c40",
   "metadata": {},
   "outputs": [],
   "source": [
    "start = timeit.default_timer()\n",
    "genre_query = session.query(Movies.title_movie, Movies.year_movie,ReferenceRatings.average_rating, ReferenceRatings.count_rating, GenreList.id_movie, GenreList.name_genre).filter(Movies.id_movie == ReferenceRatings.id_reference, Movies.id_movie == GenreList.id_movie).order_by(ReferenceRatings.count_rating.desc())\n",
    "genre_query = genre_query.filter(GenreList.name_genre == \"Animation\")\n",
    "genre_query[0:10]\n",
    "stop = timeit.default_timer()\n",
    "print('Time: ', stop - start) "
   ]
  },
  {
   "cell_type": "code",
   "execution_count": null,
   "id": "0f9b555e",
   "metadata": {},
   "outputs": [],
   "source": [
    "genre_query[0:10]"
   ]
  },
  {
   "cell_type": "code",
   "execution_count": null,
   "id": "ac90cf3a",
   "metadata": {},
   "outputs": [],
   "source": [
    "#get the recommendation for a certain movie\n",
    "\n",
    "movieid = 2\n",
    "\n",
    "list_movies = []\n",
    "list_count = []\n",
    "\n",
    "intersecA = session.query(intersec_movies).filter(intersec_movies.id_movieA == movieid)\n",
    "for row in intersecA:\n",
    "    list_movies.append(row.id_movieB)\n",
    "    list_count.append(row.count_value)\n",
    "\n",
    "intersecB = session.query(intersec_movies).filter(intersec_movies.id_movieB == movieid)\n",
    "for row in intersecB:\n",
    "    list_movies.append(row.id_movieA)\n",
    "    list_count.append(row.count_value)\n",
    "    \n",
    "list_movies = np.asarray(list_movies)\n",
    "list_count = np.asarray(list_count)\n",
    "\n",
    "list_movies = np.flip(list_movies[np.argsort(list_count)])\n",
    "list_count = np.flip(np.sort(list_count))\n"
   ]
  },
  {
   "cell_type": "code",
   "execution_count": null,
   "id": "94bd432a",
   "metadata": {},
   "outputs": [],
   "source": [
    "for i in range(0,10):\n",
    "    print(\"ID:\" + str(list_movies[i]))\n",
    "    print(\"COUNT:\" + str(list_count[i]))"
   ]
  },
  {
   "cell_type": "code",
   "execution_count": null,
   "id": "2d07f262",
   "metadata": {},
   "outputs": [],
   "source": [
    "session.query(intersec_movies).filter(intersec_movies.id_movieA == movieid).count()"
   ]
  },
  {
   "cell_type": "code",
   "execution_count": null,
   "id": "b2c79cb0",
   "metadata": {},
   "outputs": [],
   "source": [
    "query = session.query(intersec_movies).filter(intersec_movies.id_movieA == 1)"
   ]
  },
  {
   "cell_type": "code",
   "execution_count": null,
   "id": "f16c6c13",
   "metadata": {},
   "outputs": [],
   "source": [
    "query.count()"
   ]
  },
  {
   "cell_type": "code",
   "execution_count": null,
   "id": "7a596967",
   "metadata": {},
   "outputs": [],
   "source": [
    "query.delete()"
   ]
  },
  {
   "cell_type": "code",
   "execution_count": null,
   "id": "de7ce8ce",
   "metadata": {},
   "outputs": [],
   "source": [
    "session.commit()"
   ]
  },
  {
   "cell_type": "code",
   "execution_count": null,
   "id": "e64be4cd",
   "metadata": {},
   "outputs": [],
   "source": [
    "query = session.query(intersec_users.id_userA, intersec_users.id_userB, intersec_users.similarity_user).order_by(intersec_users.similarity_user.desc())"
   ]
  },
  {
   "cell_type": "code",
   "execution_count": null,
   "id": "1a9e065b",
   "metadata": {},
   "outputs": [],
   "source": [
    "query[100:110]"
   ]
  },
  {
   "cell_type": "code",
   "execution_count": null,
   "id": "065af9b8",
   "metadata": {},
   "outputs": [],
   "source": [
    "query.count()"
   ]
  },
  {
   "cell_type": "code",
   "execution_count": null,
   "id": "63c55ca4",
   "metadata": {},
   "outputs": [],
   "source": [
    "#get the recommendation for a certain user\n",
    "#100260\n",
    "userid = 100260\n",
    "\n",
    "list_users = []\n",
    "list_sim = []\n",
    "\n",
    "intersecA = session.query(intersec_users).filter(intersec_users.id_userA == userid)\n",
    "for row in intersecA:\n",
    "    list_users.append(row.id_userB)\n",
    "    list_sim.append(row.similarity_user)\n",
    "\n",
    "intersecB = session.query(intersec_users).filter(intersec_users.id_userB == userid)\n",
    "for row in intersecB:\n",
    "    list_users.append(row.id_userA)\n",
    "    list_sim.append(row.similarity_user)\n",
    "    \n",
    "list_users = np.asarray(list_users)\n",
    "list_count = np.asarray(list_sim)\n",
    "\n",
    "list_users = np.flip(list_users[np.argsort(list_sim)])\n",
    "list_sim = np.flip(np.sort(list_sim))"
   ]
  },
  {
   "cell_type": "code",
   "execution_count": null,
   "id": "20b97dad",
   "metadata": {},
   "outputs": [],
   "source": [
    "for i in range(0,10):\n",
    "    print(\"ID:\" + str(list_users[i]))\n",
    "    print(\"COUNT:\" + str(list_sim[i]))"
   ]
  },
  {
   "cell_type": "code",
   "execution_count": null,
   "id": "dc16588d",
   "metadata": {},
   "outputs": [],
   "source": [
    "list_users[0]"
   ]
  },
  {
   "cell_type": "code",
   "execution_count": null,
   "id": "c862a809",
   "metadata": {},
   "outputs": [],
   "source": [
    "recommend_1 = session.query(Ratings.id_movie).filter(Ratings.id_user.in_((int(list_users[0]),int(list_users[1]),int(list_users[2]))), Ratings.value_rating >= 3.5).all()\n",
    "#recommend_2 = session.query(Ratings.id_movie).filter(Ratings.id_user == int(list_users[1]), Ratings.value_rating >= 3.5).all()\n",
    "#recommend_3 = session.query(Ratings.id_movie).filter(Ratings.id_user == int(list_users[2]), Ratings.value_rating >= 3.5).all()\n",
    "userrated = session.query(Ratings.id_movie).filter(Ratings.id_user == 100260).all()"
   ]
  },
  {
   "cell_type": "code",
   "execution_count": null,
   "id": "d364b86b",
   "metadata": {},
   "outputs": [],
   "source": [
    "rlist_1 = []\n",
    "#rlist_2 = []\n",
    "#rlist_3 = []\n",
    "ulist = []\n",
    "\n",
    "for r in recommend_1:\n",
    "    rlist_1.append(r[0])\n",
    "\n",
    "#for r in recommend_2:\n",
    "#    rlist_2.append(r[0])\n",
    "\n",
    "#for r in recommend_3:\n",
    "#    rlist_3.append(r[0])\n",
    "\n",
    "for l in userrated:\n",
    "    ulist.append(l[0])"
   ]
  },
  {
   "cell_type": "code",
   "execution_count": null,
   "id": "33a6ceba",
   "metadata": {},
   "outputs": [],
   "source": [
    "recommended_set = set(rlist_1).union(set(rlist_2)).union(set(rlist_3)) - set(ulist)"
   ]
  },
  {
   "cell_type": "code",
   "execution_count": null,
   "id": "474eff7a",
   "metadata": {},
   "outputs": [],
   "source": [
    "len(recommended_set)"
   ]
  },
  {
   "cell_type": "code",
   "execution_count": null,
   "id": "a7d1fd62",
   "metadata": {
    "scrolled": false
   },
   "outputs": [],
   "source": [
    "fullrlist = []\n",
    "fullrlist_names = []\n",
    "relevanceindex = []\n",
    "\n",
    "for movie in recommended_set:\n",
    "    query = session.query(ReferenceRatings.average_rating).filter(ReferenceRatings.id_reference == movie)\n",
    "    query2 = session.query(Movies.title_movie).filter(Movies.id_movie == movie)\n",
    "    fullrlist.append(movie)\n",
    "    fullrlist_names.append(query2[0][0])\n",
    "    relevanceindex.append(query[0][0])\n",
    "\n",
    "fullrlist = np.asarray(fullrlist)\n",
    "fullrlist_names = np.asarray(fullrlist_names)\n",
    "relevanceindex = np.asarray(relevanceindex)"
   ]
  },
  {
   "cell_type": "code",
   "execution_count": null,
   "id": "65f8197e",
   "metadata": {},
   "outputs": [],
   "source": [
    "fullrlist = np.flip(fullrlist[np.argsort(relevanceindex)])\n",
    "fullrlist_names = np.flip(fullrlist_names[np.argsort(relevanceindex)])\n",
    "relevanceindex = np.flip(np.sort(relevanceindex))"
   ]
  },
  {
   "cell_type": "code",
   "execution_count": null,
   "id": "9dd3ede4",
   "metadata": {},
   "outputs": [],
   "source": [
    "for i in range(0,100):\n",
    "    print(\"ID:\" + str(fullrlist[i]))\n",
    "    print(\"TITLE:\" + str(fullrlist_names[i]))\n",
    "    print(\"AVG:\" + str(relevanceindex[i]))"
   ]
  },
  {
   "cell_type": "code",
   "execution_count": null,
   "id": "bc3a5608",
   "metadata": {},
   "outputs": [],
   "source": []
  }
 ],
 "metadata": {
  "kernelspec": {
   "display_name": "Python 3 (ipykernel)",
   "language": "python",
   "name": "python3"
  },
  "language_info": {
   "codemirror_mode": {
    "name": "ipython",
    "version": 3
   },
   "file_extension": ".py",
   "mimetype": "text/x-python",
   "name": "python",
   "nbconvert_exporter": "python",
   "pygments_lexer": "ipython3",
   "version": "3.10.4"
  }
 },
 "nbformat": 4,
 "nbformat_minor": 5
}
